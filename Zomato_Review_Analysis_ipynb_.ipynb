{
  "nbformat": 4,
  "nbformat_minor": 0,
  "metadata": {
    "colab": {
      "provenance": [],
      "authorship_tag": "ABX9TyOCLMVxWKE9X+Ci78xEZPe4",
      "include_colab_link": true
    },
    "kernelspec": {
      "name": "python3",
      "display_name": "Python 3"
    },
    "language_info": {
      "name": "python"
    }
  },
  "cells": [
    {
      "cell_type": "markdown",
      "metadata": {
        "id": "view-in-github",
        "colab_type": "text"
      },
      "source": [
        "<a href=\"https://colab.research.google.com/github/Ishita95-harvad/Zomato-Review-Analysis/blob/main/Zomato_Review_Analysis_ipynb_.ipynb\" target=\"_parent\"><img src=\"https://colab.research.google.com/assets/colab-badge.svg\" alt=\"Open In Colab\"/></a>"
      ]
    },
    {
      "cell_type": "markdown",
      "source": [
        "# **Machine Learning Workflow for Facebook Data**"
      ],
      "metadata": {
        "id": "AGKI2x5ujdzB"
      }
    },
    {
      "cell_type": "markdown",
      "source": [
        "**Step 1: Load and Preprocess Data**"
      ],
      "metadata": {
        "id": "KLuJa0nIjrZ6"
      }
    },
    {
      "cell_type": "code",
      "source": [
        "import pandas as pd\n",
        "import matplotlib.pyplot as plt\n",
        "import seaborn as sns\n",
        "from wordcloud import WordCloud\n",
        "from sklearn.feature_extraction.text import TfidfVectorizer\n",
        "from sklearn.model_selection import train_test_split, GridSearchCV\n",
        "from sklearn.naive_bayes import MultinomialNB\n",
        "from sklearn.svm import SVC\n",
        "from sklearn.metrics import accuracy_score, confusion_matrix, classification_report\n",
        "from tensorflow.keras.models import Sequential\n",
        "from tensorflow.keras.layers import Embedding, LSTM, Dense, SpatialDropout1D, Dropout\n",
        "from tensorflow.keras.preprocessing.text import Tokenizer\n",
        "from tensorflow.keras.preprocessing.sequence import pad_sequences\n",
        "import numpy as np\n",
        "import dash\n",
        "from dash import dcc, html, Input, Output\n",
        "import plotly.express as px\n",
        "import zipfile\n",
        "import os\n",
        "import io\n",
        "from PIL import Image\n",
        "import base64"
      ],
      "metadata": {
        "id": "Rlt72e6YqITM"
      },
      "execution_count": null,
      "outputs": []
    },
    {
      "cell_type": "code",
      "source": [
        "# Extract ZIP file with error handling\n",
        "zip_file_path = \"67a0615431763_resources.zip\"\n",
        "extract_folder = \"extracted_zomato_reviews\"\n",
        "\n",
        "if not os.path.exists(extract_folder):\n",
        "    os.makedirs(extract_folder)\n",
        "    with zipfile.ZipFile(zip_file_path, 'r') as zip_ref:\n",
        "        zip_ref.extractall(extract_folder)\n",
        "    print(\"Extraction completed. Files:\", os.listdir(extract_folder))\n",
        "else:\n",
        "    print(\"Files already extracted.\")"
      ],
      "metadata": {
        "colab": {
          "base_uri": "https://localhost:8080/"
        },
        "id": "x24-38qtqM78",
        "outputId": "70bb3e80-93b6-4828-ea16-579b6aa5550e"
      },
      "execution_count": null,
      "outputs": [
        {
          "output_type": "stream",
          "name": "stdout",
          "text": [
            "Files already extracted.\n"
          ]
        }
      ]
    },
    {
      "cell_type": "code",
      "source": [
        "import os\n",
        "import zipfile\n",
        "import pandas as pd\n",
        "\n",
        "extract_folder = \"extracted_zomato_reviews\"\n",
        "zip_file_path = \"67a0615431763_resources.zip\"  # Assuming this is the correct zip file name\n",
        "\n",
        "# Ensure the folder exists and extract if necessary\n",
        "if not os.path.exists(extract_folder):\n",
        "    os.makedirs(extract_folder)\n",
        "    with zipfile.ZipFile(zip_file_path, 'r') as zip_ref:\n",
        "        zip_ref.extractall(extract_folder)\n",
        "    print(\"Extraction completed. Files:\", os.listdir(extract_folder))\n",
        "else:\n",
        "    print(\"Files already extracted.\")\n",
        "\n",
        "# Print all files in the extracted folder for verification\n",
        "print(os.listdir(extract_folder))\n",
        "\n",
        "# Load the dataset safely\n",
        "file_path = None\n",
        "df = None  # Initialize df to None\n",
        "\n",
        "for file in os.listdir(extract_folder):\n",
        "    if file.endswith(\".xlsx\"):  # Check only for .xlsx extension\n",
        "        file_path = os.path.join(extract_folder, file)\n",
        "        print(f\"Found potential dataset file: {file_path}\")\n",
        "        try:\n",
        "            # Update 'Zomato Review Kaggle' with the actual sheet name if different\n",
        "            df = pd.read_excel(file_path, sheet_name=\"Zomato Review Kaggle\")\n",
        "            print(f\"Successfully loaded dataset from: {file_path}\")\n",
        "            break  # Exit loop if successful\n",
        "        except (FileNotFoundError, ValueError) as e:\n",
        "            print(f\"Error loading file: {file_path}. Trying next file. Error: {e}\")\n",
        "            continue\n",
        "\n"
      ],
      "metadata": {
        "colab": {
          "base_uri": "https://localhost:8080/"
        },
        "id": "vLNOJAxCOmlQ",
        "outputId": "1a1627b3-a8e8-4c72-e0a9-6d9d1c7ac9f6"
      },
      "execution_count": null,
      "outputs": [
        {
          "output_type": "stream",
          "name": "stdout",
          "text": [
            "Files already extracted.\n",
            "[]\n"
          ]
        }
      ]
    },
    {
      "cell_type": "code",
      "source": [
        "# Display dataset information\n",
        "print(\"Dataset Head:\\n\", df.head())\n",
        "print(\"\\nDataset Info:\\n\")\n",
        "df.info()\n"
      ],
      "metadata": {
        "id": "_dKSQuoxRT1H"
      },
      "execution_count": null,
      "outputs": []
    },
    {
      "cell_type": "code",
      "source": [
        "\n",
        "# Visualizing Review Distribution\n",
        "sns.countplot(x=df['Liked'])\n",
        "plt.title(\"Distribution of Positive and Negative Reviews\")\n",
        "plt.show()"
      ],
      "metadata": {
        "id": "JJa-fvnBRWHI"
      },
      "execution_count": null,
      "outputs": []
    },
    {
      "cell_type": "markdown",
      "source": [
        "**Step 2: Feature Engineering**\n",
        "\n",
        "predicting engagement (likes, shares, comments), extract meaningful features:"
      ],
      "metadata": {
        "id": "ng7zFXSZjvts"
      }
    },
    {
      "cell_type": "code",
      "source": [
        "# WordCloud for Positive and Negative Reviews\n",
        "positive_reviews = \" \".join(df[df['Liked'] == 1]['Review'])\n",
        "negative_reviews = \" \".join(df[df['Liked'] == 0]['Review'])\n",
        "\n",
        "def generate_wordcloud(text):\n",
        "    wordcloud = WordCloud(width=800, height=400, background_color='white').generate(text)\n",
        "    img = io.BytesIO()\n",
        "    Image.fromarray(wordcloud.to_array()).save(img, format='PNG')\n",
        "    encoded_img = base64.b64encode(img.getvalue()).decode()\n",
        "    return encoded_img\n",
        "\n",
        "pos_wc_img = generate_wordcloud(positive_reviews)\n",
        "neg_wc_img = generate_wordcloud(negative_reviews)"
      ],
      "metadata": {
        "id": "3IOSgVJKRaGo"
      },
      "execution_count": null,
      "outputs": []
    },
    {
      "cell_type": "code",
      "source": [
        "# Text Processing using TF-IDF\n",
        "vectorizer = TfidfVectorizer(stop_words='english')\n",
        "X = vectorizer.fit_transform(df['Review'])\n",
        "y = df['Liked']"
      ],
      "metadata": {
        "id": "uKE6jNizRevc"
      },
      "execution_count": null,
      "outputs": []
    },
    {
      "cell_type": "markdown",
      "source": [
        "**Step 3: Prepare Data for Training**"
      ],
      "metadata": {
        "id": "sonY8h27j6jG"
      }
    },
    {
      "cell_type": "code",
      "source": [
        "\n",
        "# Train-Test Split\n",
        "X_train, X_test, y_train, y_test = train_test_split(X, y, test_size=0.2, random_state=42)"
      ],
      "metadata": {
        "id": "hWZvFsjKRhVX"
      },
      "execution_count": null,
      "outputs": []
    },
    {
      "cell_type": "code",
      "source": [
        "# Model Training with Hyperparameter Tuning (Naive Bayes)\n",
        "param_grid = {'alpha': [0.1, 0.5, 1.0, 2.0, 5.0]}\n",
        "grid_search = GridSearchCV(MultinomialNB(), param_grid, cv=5)\n",
        "grid_search.fit(X_train, y_train)\n",
        "best_nb_model = grid_search.best_estimator_"
      ],
      "metadata": {
        "id": "Oh5KC6NaQ5Zu"
      },
      "execution_count": null,
      "outputs": []
    },
    {
      "cell_type": "code",
      "source": [
        "# Model Training (SVM for comparison)\n",
        "svm_model = SVC(kernel='linear')\n",
        "svm_model.fit(X_train, y_train)"
      ],
      "metadata": {
        "id": "O-ZHIEm5Q8J_"
      },
      "execution_count": null,
      "outputs": []
    },
    {
      "cell_type": "code",
      "source": [
        "# Deep Learning Model with Dropout and Hyperparameter Tuning\n",
        "max_words = 5000\n",
        "max_len = 100\n",
        "tokenizer = Tokenizer(num_words=max_words, oov_token=\"<OOV>\")\n",
        "tokenizer.fit_on_texts(df['Review'])\n",
        "X_dl = tokenizer.texts_to_sequences(df['Review'])\n",
        "X_dl = pad_sequences(X_dl, maxlen=max_len)\n",
        "\n",
        "y_dl = np.array(df['Liked'])\n",
        "X_train_dl, X_test_dl, y_train_dl, y_test_dl = train_test_split(X_dl, y_dl, test_size=0.2, random_state=42)\n",
        "\n",
        "model = Sequential([\n",
        "    Embedding(input_dim=max_words, output_dim=128, input_length=max_len),\n",
        "    SpatialDropout1D(0.2),\n",
        "    LSTM(100, dropout=0.2, recurrent_dropout=0.2),\n",
        "    Dense(64, activation='relu'),\n",
        "    Dropout(0.3),\n",
        "    Dense(1, activation='sigmoid')\n",
        "])\n",
        "\n",
        "model.compile(loss='binary_crossentropy', optimizer='adam', metrics=['accuracy'])"
      ],
      "metadata": {
        "id": "w3qaAM1HRtB6"
      },
      "execution_count": null,
      "outputs": []
    },
    {
      "cell_type": "code",
      "source": [
        "# Train Deep Learning Model with Early Stopping\n",
        "model.fit(X_train_dl, y_train_dl, epochs=10, batch_size=32, validation_data=(X_test_dl, y_test_dl))"
      ],
      "metadata": {
        "id": "EfXx9I5wRv3O"
      },
      "execution_count": null,
      "outputs": []
    },
    {
      "cell_type": "code",
      "source": [
        "# Evaluate Deep Learning Model\n",
        "loss, accuracy = model.evaluate(X_test_dl, y_test_dl)\n",
        "print(\"Deep Learning Model Accuracy:\", accuracy)"
      ],
      "metadata": {
        "id": "aL5c9sshRyPy"
      },
      "execution_count": null,
      "outputs": []
    },
    {
      "cell_type": "markdown",
      "source": [
        "**Step 4: Train a Machine Learning Model**"
      ],
      "metadata": {
        "id": "fJfw6lzOkC09"
      }
    },
    {
      "cell_type": "code",
      "source": [
        "# Dashboard Implementation\n",
        "app = dash.Dash(__name__)"
      ],
      "metadata": {
        "id": "1QBZI7ITR0y4"
      },
      "execution_count": null,
      "outputs": []
    },
    {
      "cell_type": "markdown",
      "source": [
        "**Step 5: Save and Deploy Model**"
      ],
      "metadata": {
        "id": "GWNHJ7cmkJE4"
      }
    },
    {
      "cell_type": "code",
      "source": [
        "# Column Chart for Review Sentiment Distribution\n",
        "fig = px.bar(df, x=df['Liked'].value_counts().index, y=df['Liked'].value_counts().values,\n",
        "             labels={'x': 'Sentiment', 'y': 'Count'}, title='Review Sentiment Distribution')\n",
        "\n",
        "@app.callback(\n",
        "    Output('filtered-graph', 'figure'),\n",
        "    Input('rating-filter', 'value')\n",
        ")\n",
        "def update_graph(selected_rating):\n",
        "    if selected_rating is not None:\n",
        "        filtered_df = df[df['Liked'] == selected_rating]\n",
        "    else:\n",
        "        filtered_df = df\n",
        "    return px.histogram(filtered_df, x='Review', title='Filtered Reviews')\n",
        "\n",
        "app.layout = html.Div([\n",
        "    html.H1(\"Zomato Review Sentiment Analysis Dashboard\"),\n",
        "    dcc.Dropdown(\n",
        "        id='rating-filter',\n",
        "        options=[\n",
        "            {'label': 'Positive', 'value': 1},\n",
        "            {'label': 'Negative', 'value': 0}\n",
        "        ],\n",
        "        placeholder='Select Review Sentiment'\n",
        "    ),\n",
        "    dcc.Graph(id='filtered-graph'),\n",
        "    dcc.Graph(figure=fig),\n",
        "    html.Img(src='data:image/png;base64,' + pos_wc_img, style={'width': '50%'}),\n",
        "    html.Img(src='data:image/png;base64,' + neg_wc_img, style={'width': '50%'})\n",
        "])\n",
        "\n",
        "if __name__ == '__main__':\n",
        "    app.run_server(debug=True)\n"
      ],
      "metadata": {
        "id": "mNvS3H-bR5EH"
      },
      "execution_count": null,
      "outputs": []
    },
    {
      "cell_type": "code",
      "source": [
        "# Model Evaluation\n",
        "y_pred_nb = best_nb_model.predict(X_test)\n",
        "y_pred_svm = svm_model.predict(X_test)\n",
        "print(\"Naive Bayes Best Params:\", grid_search.best_params_)\n",
        "print(\"Naive Bayes Accuracy:\", accuracy_score(y_test, y_pred_nb))\n",
        "print(\"SVM Accuracy:\", accuracy_score(y_test, y_pred_svm))\n",
        "print(\"Naive Bayes Confusion Matrix:\\n\", confusion_matrix(y_test, y_pred_nb))\n",
        "print(\"SVM Confusion Matrix:\\n\", confusion_matrix(y_test, y_pred_svm))\n",
        "print(\"Naive Bayes Classification Report:\\n\", classification_report(y_test, y_pred_nb))\n",
        "print(\"SVM Classification Report:\\n\", classification_report(y_test, y_pred_svm))"
      ],
      "metadata": {
        "id": "P1yP7pbzQ-pZ"
      },
      "execution_count": null,
      "outputs": []
    },
    {
      "cell_type": "markdown",
      "source": [
        "# **2️⃣ Interactive Dashboard Workflow (Plotly & Dash)**"
      ],
      "metadata": {
        "id": "E9GAUlANkSnB"
      }
    },
    {
      "cell_type": "markdown",
      "source": [
        "**Step 1: Install Required Libraries**"
      ],
      "metadata": {
        "id": "EtfTBTFWkZ4t"
      }
    },
    {
      "cell_type": "code",
      "source": [
        "pip install dash plotly\n"
      ],
      "metadata": {
        "colab": {
          "base_uri": "https://localhost:8080/"
        },
        "id": "74BXR3sJkXsK",
        "outputId": "e3771599-b3e1-4001-a6c6-36f0877ffd52"
      },
      "execution_count": null,
      "outputs": [
        {
          "output_type": "stream",
          "name": "stdout",
          "text": [
            "Collecting dash\n",
            "  Downloading dash-3.0.1-py3-none-any.whl.metadata (10 kB)\n",
            "Requirement already satisfied: plotly in /usr/local/lib/python3.11/dist-packages (5.24.1)\n",
            "Collecting Flask<3.1,>=1.0.4 (from dash)\n",
            "  Downloading flask-3.0.3-py3-none-any.whl.metadata (3.2 kB)\n",
            "Collecting Werkzeug<3.1 (from dash)\n",
            "  Downloading werkzeug-3.0.6-py3-none-any.whl.metadata (3.7 kB)\n",
            "Requirement already satisfied: importlib-metadata in /usr/local/lib/python3.11/dist-packages (from dash) (8.6.1)\n",
            "Requirement already satisfied: typing-extensions>=4.1.1 in /usr/local/lib/python3.11/dist-packages (from dash) (4.12.2)\n",
            "Requirement already satisfied: requests in /usr/local/lib/python3.11/dist-packages (from dash) (2.32.3)\n",
            "Collecting retrying (from dash)\n",
            "  Downloading retrying-1.3.4-py3-none-any.whl.metadata (6.9 kB)\n",
            "Requirement already satisfied: nest-asyncio in /usr/local/lib/python3.11/dist-packages (from dash) (1.6.0)\n",
            "Requirement already satisfied: setuptools in /usr/local/lib/python3.11/dist-packages (from dash) (75.1.0)\n",
            "Requirement already satisfied: tenacity>=6.2.0 in /usr/local/lib/python3.11/dist-packages (from plotly) (9.0.0)\n",
            "Requirement already satisfied: packaging in /usr/local/lib/python3.11/dist-packages (from plotly) (24.2)\n",
            "Requirement already satisfied: Jinja2>=3.1.2 in /usr/local/lib/python3.11/dist-packages (from Flask<3.1,>=1.0.4->dash) (3.1.6)\n",
            "Requirement already satisfied: itsdangerous>=2.1.2 in /usr/local/lib/python3.11/dist-packages (from Flask<3.1,>=1.0.4->dash) (2.2.0)\n",
            "Requirement already satisfied: click>=8.1.3 in /usr/local/lib/python3.11/dist-packages (from Flask<3.1,>=1.0.4->dash) (8.1.8)\n",
            "Requirement already satisfied: blinker>=1.6.2 in /usr/local/lib/python3.11/dist-packages (from Flask<3.1,>=1.0.4->dash) (1.9.0)\n",
            "Requirement already satisfied: MarkupSafe>=2.1.1 in /usr/local/lib/python3.11/dist-packages (from Werkzeug<3.1->dash) (3.0.2)\n",
            "Requirement already satisfied: zipp>=3.20 in /usr/local/lib/python3.11/dist-packages (from importlib-metadata->dash) (3.21.0)\n",
            "Requirement already satisfied: charset-normalizer<4,>=2 in /usr/local/lib/python3.11/dist-packages (from requests->dash) (3.4.1)\n",
            "Requirement already satisfied: idna<4,>=2.5 in /usr/local/lib/python3.11/dist-packages (from requests->dash) (3.10)\n",
            "Requirement already satisfied: urllib3<3,>=1.21.1 in /usr/local/lib/python3.11/dist-packages (from requests->dash) (2.3.0)\n",
            "Requirement already satisfied: certifi>=2017.4.17 in /usr/local/lib/python3.11/dist-packages (from requests->dash) (2025.1.31)\n",
            "Requirement already satisfied: six>=1.7.0 in /usr/local/lib/python3.11/dist-packages (from retrying->dash) (1.17.0)\n",
            "Downloading dash-3.0.1-py3-none-any.whl (8.0 MB)\n",
            "\u001b[2K   \u001b[90m━━━━━━━━━━━━━━━━━━━━━━━━━━━━━━━━━━━━━━━━\u001b[0m \u001b[32m8.0/8.0 MB\u001b[0m \u001b[31m62.7 MB/s\u001b[0m eta \u001b[36m0:00:00\u001b[0m\n",
            "\u001b[?25hDownloading flask-3.0.3-py3-none-any.whl (101 kB)\n",
            "\u001b[2K   \u001b[90m━━━━━━━━━━━━━━━━━━━━━━━━━━━━━━━━━━━━━━━━\u001b[0m \u001b[32m101.7/101.7 kB\u001b[0m \u001b[31m8.9 MB/s\u001b[0m eta \u001b[36m0:00:00\u001b[0m\n",
            "\u001b[?25hDownloading werkzeug-3.0.6-py3-none-any.whl (227 kB)\n",
            "\u001b[2K   \u001b[90m━━━━━━━━━━━━━━━━━━━━━━━━━━━━━━━━━━━━━━━━\u001b[0m \u001b[32m228.0/228.0 kB\u001b[0m \u001b[31m19.6 MB/s\u001b[0m eta \u001b[36m0:00:00\u001b[0m\n",
            "\u001b[?25hDownloading retrying-1.3.4-py3-none-any.whl (11 kB)\n",
            "Installing collected packages: Werkzeug, retrying, Flask, dash\n",
            "  Attempting uninstall: Werkzeug\n",
            "    Found existing installation: Werkzeug 3.1.3\n",
            "    Uninstalling Werkzeug-3.1.3:\n",
            "      Successfully uninstalled Werkzeug-3.1.3\n",
            "  Attempting uninstall: Flask\n",
            "    Found existing installation: Flask 3.1.0\n",
            "    Uninstalling Flask-3.1.0:\n",
            "      Successfully uninstalled Flask-3.1.0\n",
            "Successfully installed Flask-3.0.3 Werkzeug-3.0.6 dash-3.0.1 retrying-1.3.4\n"
          ]
        }
      ]
    },
    {
      "cell_type": "markdown",
      "source": [
        "**Step 2: Create a Dashboard with Key Metrics**"
      ],
      "metadata": {
        "id": "aNsLpKAPkd6v"
      }
    }
  ]
}